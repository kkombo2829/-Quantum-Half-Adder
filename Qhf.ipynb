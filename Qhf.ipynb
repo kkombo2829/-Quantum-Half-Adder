{
 "cells": [
  {
   "cell_type": "code",
   "execution_count": 91,
   "metadata": {},
   "outputs": [],
   "source": [
    "from qiskit import QuantumCircuit, Aer,execute \n",
    "from qiskit.visualization import plot_histogram"
   ]
  },
  {
   "cell_type": "code",
   "execution_count": 92,
   "metadata": {},
   "outputs": [
    {
     "data": {
      "text/html": [
       "<pre style=\"word-wrap: normal;white-space: pre;background: #fff0;line-height: 1.1;font-family: &quot;Courier New&quot;,Courier,monospace\">                          \n",
       "q_0: ──■─────────■────────\n",
       "       │         │        \n",
       "q_1: ──┼────■────■────────\n",
       "     ┌─┴─┐┌─┴─┐  │  ┌─┐   \n",
       "q_2: ┤ X ├┤ X ├──┼──┤M├───\n",
       "     └───┘└───┘┌─┴─┐└╥┘┌─┐\n",
       "q_3: ──────────┤ X ├─╫─┤M├\n",
       "               └───┘ ║ └╥┘\n",
       "c_0: ════════════════╩══╬═\n",
       "                        ║ \n",
       "c_1: ═══════════════════╩═\n",
       "                          </pre>"
      ],
      "text/plain": [
       "                          \n",
       "q_0: ──■─────────■────────\n",
       "       │         │        \n",
       "q_1: ──┼────■────■────────\n",
       "     ┌─┴─┐┌─┴─┐  │  ┌─┐   \n",
       "q_2: ┤ X ├┤ X ├──┼──┤M├───\n",
       "     └───┘└───┘┌─┴─┐└╥┘┌─┐\n",
       "q_3: ──────────┤ X ├─╫─┤M├\n",
       "               └───┘ ║ └╥┘\n",
       "c_0: ════════════════╩══╬═\n",
       "                        ║ \n",
       "c_1: ═══════════════════╩═\n",
       "                          "
      ]
     },
     "execution_count": 92,
     "metadata": {},
     "output_type": "execute_result"
    }
   ],
   "source": [
    "## first 0 + 0 = 0\n",
    "qc = QuantumCircuit(4,2)  # set the second qubit = 1 \n",
    "qc.cx(0,2)\n",
    "qc.cx(1,2)\n",
    "#using ccx to write the and input to qubit 2 \n",
    "qc.ccx(0,1,3)\n",
    "\n",
    "# measure the output: \n",
    "qc.measure(2,0)\n",
    "qc.measure(3,1)\n",
    "qc.draw()"
   ]
  },
  {
   "cell_type": "code",
   "execution_count": 93,
   "metadata": {},
   "outputs": [
    {
     "data": {
      "image/png": "[encoded data removed]",
      "text/plain": [
       "<Figure size 504x360 with 1 Axes>"
      ]
     },
     "execution_count": 93,
     "metadata": {},
     "output_type": "execute_result"
    }
   ],
   "source": [
    "s= Aer.get_backend(name = 'qasm_simulator')\n",
    "job = execute(qc,s)\n",
    "result= job.result().get_counts()\n",
    "plot_histogram(result)"
   ]
  },
  {
   "cell_type": "code",
   "execution_count": 94,
   "metadata": {},
   "outputs": [
    {
     "data": {
      "text/html": [
       "<pre style=\"word-wrap: normal;white-space: pre;background: #fff0;line-height: 1.1;font-family: &quot;Courier New&quot;,Courier,monospace\">           ░                      \n",
       "q_0: ──────░───■─────────■────────\n",
       "     ┌───┐ ░   │         │        \n",
       "q_1: ┤ X ├─░───┼────■────■────────\n",
       "     └───┘ ░ ┌─┴─┐┌─┴─┐  │  ┌─┐   \n",
       "q_2: ──────░─┤ X ├┤ X ├──┼──┤M├───\n",
       "           ░ └───┘└───┘┌─┴─┐└╥┘┌─┐\n",
       "q_3: ──────░───────────┤ X ├─╫─┤M├\n",
       "           ░           └───┘ ║ └╥┘\n",
       "c_0: ════════════════════════╩══╬═\n",
       "                                ║ \n",
       "c_1: ═══════════════════════════╩═\n",
       "                                  </pre>"
      ],
      "text/plain": [
       "           ░                      \n",
       "q_0: ──────░───■─────────■────────\n",
       "     ┌───┐ ░   │         │        \n",
       "q_1: ┤ X ├─░───┼────■────■────────\n",
       "     └───┘ ░ ┌─┴─┐┌─┴─┐  │  ┌─┐   \n",
       "q_2: ──────░─┤ X ├┤ X ├──┼──┤M├───\n",
       "           ░ └───┘└───┘┌─┴─┐└╥┘┌─┐\n",
       "q_3: ──────░───────────┤ X ├─╫─┤M├\n",
       "           ░           └───┘ ║ └╥┘\n",
       "c_0: ════════════════════════╩══╬═\n",
       "                                ║ \n",
       "c_1: ═══════════════════════════╩═\n",
       "                                  "
      ]
     },
     "execution_count": 94,
     "metadata": {},
     "output_type": "execute_result"
    }
   ],
   "source": [
    "## second 0 + 1 = 01 \n",
    "qc = QuantumCircuit(4,2)  \n",
    "qc.x(1)# set the second qubit = 1 \n",
    "qc.barrier()\n",
    "qc.cx(0,2)\n",
    "qc.cx(1,2)\n",
    "#using ccx to write the and input to qubit 2 \n",
    "qc.ccx(0,1,3)\n",
    "\n",
    "# measure the output: \n",
    "qc.measure(2,0)\n",
    "qc.measure(3,1)\n",
    "qc.draw()"
   ]
  },
  {
   "cell_type": "code",
   "execution_count": 95,
   "metadata": {},
   "outputs": [
    {
     "data": {
      "image/png": "[encoded data removed]",
      "text/plain": [
       "<Figure size 504x360 with 1 Axes>"
      ]
     },
     "execution_count": 95,
     "metadata": {},
     "output_type": "execute_result"
    }
   ],
   "source": [
    "s= Aer.get_backend(name = 'qasm_simulator')\n",
    "job = execute(qc,s)\n",
    "result= job.result().get_counts()\n",
    "plot_histogram(result)"
   ]
  },
  {
   "cell_type": "code",
   "execution_count": 96,
   "metadata": {},
   "outputs": [
    {
     "data": {
      "text/html": [
       "<pre style=\"word-wrap: normal;white-space: pre;background: #fff0;line-height: 1.1;font-family: &quot;Courier New&quot;,Courier,monospace\">     ┌───┐ ░                      \n",
       "q_0: ┤ X ├─░───■─────────■────────\n",
       "     └───┘ ░   │         │        \n",
       "q_1: ──────░───┼────■────■────────\n",
       "           ░ ┌─┴─┐┌─┴─┐  │  ┌─┐   \n",
       "q_2: ──────░─┤ X ├┤ X ├──┼──┤M├───\n",
       "           ░ └───┘└───┘┌─┴─┐└╥┘┌─┐\n",
       "q_3: ──────░───────────┤ X ├─╫─┤M├\n",
       "           ░           └───┘ ║ └╥┘\n",
       "c_0: ════════════════════════╩══╬═\n",
       "                                ║ \n",
       "c_1: ═══════════════════════════╩═\n",
       "                                  </pre>"
      ],
      "text/plain": [
       "     ┌───┐ ░                      \n",
       "q_0: ┤ X ├─░───■─────────■────────\n",
       "     └───┘ ░   │         │        \n",
       "q_1: ──────░───┼────■────■────────\n",
       "           ░ ┌─┴─┐┌─┴─┐  │  ┌─┐   \n",
       "q_2: ──────░─┤ X ├┤ X ├──┼──┤M├───\n",
       "           ░ └───┘└───┘┌─┴─┐└╥┘┌─┐\n",
       "q_3: ──────░───────────┤ X ├─╫─┤M├\n",
       "           ░           └───┘ ║ └╥┘\n",
       "c_0: ════════════════════════╩══╬═\n",
       "                                ║ \n",
       "c_1: ═══════════════════════════╩═\n",
       "                                  "
      ]
     },
     "execution_count": 96,
     "metadata": {},
     "output_type": "execute_result"
    }
   ],
   "source": [
    "## second 1 + 0 = 01\n",
    "qc = QuantumCircuit(4,2)  \n",
    "qc.x(0)# set the first qubit = 1 \n",
    "qc.barrier()\n",
    "qc.cx(0,2)\n",
    "qc.cx(1,2)\n",
    "#using ccx to write the and input to qubit 2 \n",
    "qc.ccx(0,1,3)\n",
    "\n",
    "# measure the output: \n",
    "qc.measure(2,0)\n",
    "qc.measure(3,1)\n",
    "qc.draw()"
   ]
  },
  {
   "cell_type": "code",
   "execution_count": 97,
   "metadata": {},
   "outputs": [
    {
     "data": {
      "image/png": "[encoded data removed]",
      "text/plain": [
       "<Figure size 504x360 with 1 Axes>"
      ]
     },
     "execution_count": 97,
     "metadata": {},
     "output_type": "execute_result"
    }
   ],
   "source": [
    "s= Aer.get_backend(name = 'qasm_simulator')\n",
    "job = execute(qc,s)\n",
    "result= job.result().get_counts()\n",
    "plot_histogram(result)"
   ]
  },
  {
   "cell_type": "code",
   "execution_count": 98,
   "metadata": {},
   "outputs": [
    {
     "data": {
      "text/html": [
       "<pre style=\"word-wrap: normal;white-space: pre;background: #fff0;line-height: 1.1;font-family: &quot;Courier New&quot;,Courier,monospace\">     ┌───┐ ░                      \n",
       "q_0: ┤ X ├─░───■─────────■────────\n",
       "     ├───┤ ░   │         │        \n",
       "q_1: ┤ X ├─░───┼────■────■────────\n",
       "     └───┘ ░ ┌─┴─┐┌─┴─┐  │  ┌─┐   \n",
       "q_2: ──────░─┤ X ├┤ X ├──┼──┤M├───\n",
       "           ░ └───┘└───┘┌─┴─┐└╥┘┌─┐\n",
       "q_3: ──────░───────────┤ X ├─╫─┤M├\n",
       "           ░           └───┘ ║ └╥┘\n",
       "c_0: ════════════════════════╩══╬═\n",
       "                                ║ \n",
       "c_1: ═══════════════════════════╩═\n",
       "                                  </pre>"
      ],
      "text/plain": [
       "     ┌───┐ ░                      \n",
       "q_0: ┤ X ├─░───■─────────■────────\n",
       "     ├───┤ ░   │         │        \n",
       "q_1: ┤ X ├─░───┼────■────■────────\n",
       "     └───┘ ░ ┌─┴─┐┌─┴─┐  │  ┌─┐   \n",
       "q_2: ──────░─┤ X ├┤ X ├──┼──┤M├───\n",
       "           ░ └───┘└───┘┌─┴─┐└╥┘┌─┐\n",
       "q_3: ──────░───────────┤ X ├─╫─┤M├\n",
       "           ░           └───┘ ║ └╥┘\n",
       "c_0: ════════════════════════╩══╬═\n",
       "                                ║ \n",
       "c_1: ═══════════════════════════╩═\n",
       "                                  "
      ]
     },
     "execution_count": 98,
     "metadata": {},
     "output_type": "execute_result"
    }
   ],
   "source": [
    "## second 1 + 1 = 10\n",
    "qc = QuantumCircuit(4,2)  \n",
    "qc.x(0)# set the first qubit = 1 \n",
    "qc.x(1)# set the second qubit = 1 \n",
    "\n",
    "qc.barrier()\n",
    "qc.cx(0,2)\n",
    "qc.cx(1,2)\n",
    "#using ccx to write the and input to qubit 2 \n",
    "qc.ccx(0,1,3)\n",
    "\n",
    "# measure the output: \n",
    "qc.measure(2,0)\n",
    "qc.measure(3,1)\n",
    "qc.draw()"
   ]
  },
  {
   "cell_type": "code",
   "execution_count": 99,
   "metadata": {},
   "outputs": [
    {
     "data": {
      "image/png": "[encoded data removed]",
      "text/plain": [
       "<Figure size 504x360 with 1 Axes>"
      ]
     },
     "execution_count": 99,
     "metadata": {},
     "output_type": "execute_result"
    }
   ],
   "source": [
    "s= Aer.get_backend(name = 'qasm_simulator')\n",
    "job = execute(qc,s)\n",
    "result= job.result().get_counts()\n",
    "plot_histogram(result)"
   ]
  },
  {
   "cell_type": "code",
   "execution_count": null,
   "metadata": {},
   "outputs": [],
   "source": []
  }
 ],
 "metadata": {
  "celltoolbar": "Raw Cell Format",
  "kernelspec": {
   "display_name": "Python 3",
   "language": "python",
   "name": "python3"
  },
  "language_info": {
   "codemirror_mode": {
    "name": "ipython",
    "version": 3
   },
   "file_extension": ".py",
   "mimetype": "text/x-python",
   "name": "python",
   "nbconvert_exporter": "python",
   "pygments_lexer": "ipython3",
   "version": "3.7.6"
  }
 },
 "nbformat": 4,
 "nbformat_minor": 4
}
